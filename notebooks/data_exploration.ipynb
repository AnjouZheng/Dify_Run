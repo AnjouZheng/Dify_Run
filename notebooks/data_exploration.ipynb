{
 "cells": [
  {
   "cell_type": "markdown",
   "metadata": {},
   "source": [
    "# 垃圾邮件分类数据探索"
   ]
  },
  {
   "cell_type": "code",
   "execution_count": null,
   "metadata": {},
   "outputs": [],
   "source": [
    "import pandas as pd\n",
    "import numpy as np\n",
    "import matplotlib.pyplot as plt\n",
    "import seaborn as sns\n",
    "from sklearn.model_selection import train_test_split\n",
    "\n",
    "# 数据加载\n",
    "raw_data = pd.read_csv('../data/raw/spam_dataset.csv')\n",
    "\n",
    "# 基本数据统计\n",
    "print(raw_data.info())\n",
    "print(raw_data['label'].value_counts(normalize=True))"
   ]
  },
  {
   "cell_type": "code",
   "execution_count": null,
   "metadata": {},
   "outputs": [],
   "source": [
    "# 文本长度分析\n",
    "raw_data['text_length'] = raw_data['text'].str.len()\n",
    "\n",
    "plt.figure(figsize=(10, 6))\n",
    "sns.boxplot(x='label', y='text_length', data=raw_data)\n",
    "plt.title('文本长度分布')\n",
    "plt.show()"
   ]
  },
  {
   "cell_type": "code",
   "execution_count": null,
   "metadata": {},
   "outputs": [],
   "source": [
    "# 词频分析\n",
    "from sklearn.feature_extraction.text import CountVectorizer\n",
    "\n",
    "vectorizer = CountVectorizer(max_features=100)\n",
    "word_matrix = vectorizer.fit_transform(raw_data['text'])\n",
    "word_freq = np.sum(word_matrix, axis=0)\n",
    "\n",
    "top_words = pd.DataFrame({\n",
    "    'word': vectorizer.get_feature_names_out(),\n",
    "    'frequency': word_freq.flatten()\n",
    "}).sort_values('frequency', ascending=False).head(20)\n",
    "\n",
    "plt.figure(figsize=(12, 6))\n",
    "sns.barplot(x='word', y='frequency', data=top_words)\n",
    "plt.title('高频词分析')\n",
    "plt.xticks(rotation=45)\n",
    "plt.show()"
   ]
  },
  {
   "cell_type": "code",
   "execution_count": null,
   "metadata": {},
   "outputs": [],
   "source": [
    "# 数据集划分\n",
    "train_data, test_data = train_test_split(\n",
    "    raw_data, test_size=0.2, stratify=raw_data['label'], random_state=42\n",
    ")\n",
    "\n",
    "train_data.to_csv('../data/splits/train.csv', index=False)\n",
    "test_data.to_csv('../data/splits/test.csv', index=False)\n",
    "\n",
    "print(f'训练集大小: {len(train_data)}')\n",
    "print(f'测试集大小: {len(test_data)}')"
   ]
  },
  {
   "cell_type": "code",
   "execution_count": null,
   "metadata": {},
   "outputs": [],
   "source": [
    "# 特征工程初步探索\n",
    "from sklearn.feature_extraction.text import TfidfVectorizer\n",
    "\n",
    "tfidf = TfidfVectorizer(max_features=5000)\n",
    "X = tfidf.fit_transform(raw_data['text'])\n",
    "feature_names = tfidf.get_feature_names_out()\n",
    "\n",
    "# 保存特征名称\n",
    "pd.Series(feature_names).to_csv('../data/processed/tfidf_features.csv', index=False)"
   ]
  }
 ],
 "metadata": {
  "kernelspec": {
   "display_name": "Python 3",
   "language": "python",
   "name": "python3"
  },
  "language_info": {
   "codemirror_mode": {
    "name": "ipynb",
    "version": 3
   },
   "file_extension": ".py",
   "mimetype": "text/x-python",
   "name": "python",
   "nbconvert_exporter": "python",
   "pygments_lexer": "ipython3",
   "version": "3.8.5"
  }
 },
 "nbformat": 4,
 "nbformat_minor": 4
}