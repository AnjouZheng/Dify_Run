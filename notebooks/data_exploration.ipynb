{
 "cells": [
  {
   "cell_type": "markdown",
   "metadata": {},
   "source": [
    "# 股票价格预测数据探索"
   ]
  },
  {
   "cell_type": "code",
   "execution_count": null,
   "metadata": {},
   "outputs": [],
   "source": [
    "import pandas as pd\n",
    "import numpy as np\n",
    "import matplotlib.pyplot as plt\n",
    "import seaborn as sns\n",
    "import yfinance as yf\n",
    "\n",
    "# 配置参数\n",
    "plt.style.use('seaborn')\n",
    "sns.set(font_scale=1.2)\n",
    "pd.set_option('display.max_columns', None)"
   ]
  },
  {
   "cell_type": "markdown",
   "metadata": {},
   "source": [
    "## 数据获取"
   ]
  },
  {
   "cell_type": "code",
   "execution_count": null,
   "metadata": {},
   "outputs": [],
   "source": [
    "def fetch_stock_data(tickers, start_date, end_date):\n",
    "    stock_data = {}\n",
    "    for ticker in tickers:\n",
    "        data = yf.download(ticker, start=start_date, end=end_date)\n",
    "        stock_data[ticker] = data\n",
    "    return stock_data\n",
    "\n",
    "tickers = ['AAPL', 'GOOGL', 'MSFT', 'AMZN']\n",
    "start_date = '2018-01-01'\n",
    "end_date = '2023-06-30'\n",
    "\n",
    "stock_datasets = fetch_stock_data(tickers, start_date, end_date)"
   ]
  },
  {
   "cell_type": "markdown",
   "metadata": {},
   "source": [
    "## 数据预处理"
   ]
  },
  {
   "cell_type": "code",
   "execution_count": null,
   "metadata": {},
   "outputs": [],
   "source": [
    "def preprocess_data(stock_datasets):\n",
    "    processed_data = {}\n",
    "    for ticker, data in stock_datasets.items():\n",
    "        # 计算技术指标\n",
    "        data['MA_20'] = data['Close'].rolling(window=20).mean()\n",
    "        data['MA_50'] = data['Close'].rolling(window=50).mean()\n",
    "        data['RSI'] = compute_rsi(data['Close'], 14)\n",
    "        \n",
    "        # 计算价格变化率\n",
    "        data['Price_Change'] = data['Close'].pct_change()\n",
    "        data['Target'] = data['Close'].shift(-1)\n",
    "        \n",
    "        processed_data[ticker] = data.dropna()\n",
    "    return processed_data\n",
    "\n",
    "def compute_rsi(price_series, periods=14):\n",
    "    delta = price_series.diff()\n",
    "    gain = delta.clip(lower=0)\n",
    "    loss = -delta.clip(upper=0)\n",
    "    \n",
    "    avg_gain = gain.rolling(window=periods).mean()\n",
    "    avg_loss = loss.rolling(window=periods).mean()\n",
    "    \n",
    "    relative_strength = avg_gain / avg_loss\n",
    "    rsi = 100.0 - (100.0 / (1.0 + relative_strength))\n",
    "    return rsi\n",
    "\n",
    "processed_stocks = preprocess_data(stock_datasets)"
   ]
  },
  {
   "cell_type": "markdown",
   "metadata": {},
   "source": [
    "## 数据可视化"
   ]
  },
  {
   "cell_type": "code",
   "execution_count": null,
   "metadata": {},
   "outputs": [],
   "source": [
    "plt.figure(figsize=(15, 10))\n",
    "for i, (ticker, data) in enumerate(processed_stocks.items(), 1):\n",
    "    plt.subplot(2, 2, i)\n",
    "    plt.plot(data.index, data['Close'], label='收盘价')\n",
    "    plt.plot(data.index, data['MA_20'], label='20日移动平均线')\n",
    "    plt.plot(data.index, data['MA_50'], label='50日移动平均线')\n",
    "    plt.title(f'{ticker} 股价走势')\n",
    "    plt.xlabel('日期')\n",
    "    plt.ylabel('价格')\n",
    "    plt.legend()\n",
    "\n",
    "plt.tight_layout()\n",
    "plt.show()"
   ]
  },
  {
   "cell_type": "markdown",
   "metadata": {},
   "source": [
    "## 相关性分析"
   ]
  },
  {
   "cell_type": "code",
   "execution_count": null,
   "metadata": {},
   "outputs": [],
   "source": [
    "def correlation_analysis(processed_stocks):\n",
    "    combined_data = pd.concat([data[['Close', 'MA_20', 'MA_50', 'RSI', 'Price_Change']] for data in processed_stocks.values()], axis=1)\n",
    "    correlation_matrix = combined_data.corr()\n",
    "    \n",
    "    plt.figure(figsize=(10, 8))\n",
    "    sns.heatmap(correlation_matrix, annot=True, cmap='coolwarm', center=0)\n",
    "    plt.title('特征相关性分析')\n",
    "    plt.show()\n",
    "\n",
    "correlation_analysis(processed_stocks)"
   ]
  }
 ],
 "metadata": {
  "kernelspec": {
   "display_name": "Python 3",
   "language": "python",
   "name": "python3"
  },
  "language_info": {
   "codemirror_mode": {
    "name": "ipython",
    "version": 3
   },
   "file_extension": ".py",
   "mimetype": "text/x-python",
   "name": "python",
   "nbconvert_exporter": "python",
   "pygments_lexer": "ipython3",
   "version": "3.8.5"
  }
 },
 "nbformat": 4,
 "nbformat_minor": 4
}