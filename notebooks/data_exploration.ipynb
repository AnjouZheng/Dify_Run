{
 "cells": [
  {
   "cell_type": "markdown",
   "metadata": {},
   "source": [
    "# Stock Price Prediction Data Exploration"
   ]
  },
  {
   "cell_type": "code",
   "execution_count": null,
   "metadata": {},
   "outputs": [],
   "source": [
    "import pandas as pd\n",
    "import numpy as np\n",
    "import matplotlib.pyplot as plt\n",
    "import seaborn as sns\n",
    "\n",
    "# Configure visualization\n",
    "plt.style.use('seaborn')\n",
    "sns.set(font_scale=1.2)\n",
    "plt.figure(figsize=(16, 8))"
   ]
  },
  {
   "cell_type": "code",
   "execution_count": null,
   "metadata": {},
   "outputs": [],
   "source": [
    "# Load raw stock data\n",
    "stocks_df = pd.read_csv('../data/raw/stocks_raw.csv')\n",
    "market_indices = pd.read_csv('../data/raw/market_indices.csv')\n",
    "\n",
    "# Basic dataset information\n",
    "print(stocks_df.info())\n",
    "print(stocks_df.describe())"
   ]
  },
  {
   "cell_type": "code",
   "execution_count": null,
   "metadata": {},
   "outputs": [],
   "source": [
    "# Check missing values\n",
    "missing_data = stocks_df.isnull().sum()\n",
    "print(\"Missing Values:\\n\", missing_data)\n",
    "\n",
    "# Handle missing data strategy\n",
    "stocks_df.dropna(inplace=True)"
   ]
  },
  {
   "cell_type": "code",
   "execution_count": null,
   "metadata": {},
   "outputs": [],
   "source": [
    "# Time series visualization\n",
    "stocks_df['Date'] = pd.to_datetime(stocks_df['Date'])\n",
    "stocks_df.set_index('Date', inplace=True)\n",
    "\n",
    "plt.figure(figsize=(20, 10))\n",
    "stocks_df['Close'].plot()\n",
    "plt.title('Stock Price Closing Trend')\n",
    "plt.xlabel('Date')\n",
    "plt.ylabel('Price')\n",
    "plt.show()"
   ]
  },
  {
   "cell_type": "code",
   "execution_count": null,
   "metadata": {},
   "outputs": [],
   "source": [
    "# Correlation Analysis\n",
    "correlation_matrix = stocks_df.corr()\n",
    "plt.figure(figsize=(12, 10))\n",
    "sns.heatmap(correlation_matrix, annot=True, cmap='coolwarm')\n",
    "plt.title('Feature Correlation Matrix')\n",
    "plt.show()"
   ]
  },
  {
   "cell_type": "code",
   "execution_count": null,
   "metadata": {},
   "outputs": [],
   "source": [
    "# Advanced Feature Engineering\n",
    "def create_technical_indicators(df):\n",
    "    # Moving Averages\n",
    "    df['MA_20'] = df['Close'].rolling(window=20).mean()\n",
    "    df['MA_50'] = df['Close'].rolling(window=50).mean()\n",
    "    \n",
    "    # Relative Strength Index (RSI)\n",
    "    delta = df['Close'].diff()\n",
    "    gain = delta.clip(lower=0)\n",
    "    loss = -delta.clip(upper=0)\n",
    "    avg_gain = gain.rolling(window=14).mean()\n",
    "    avg_loss = loss.rolling(window=14).mean()\n",
    "    relative_strength = avg_gain / avg_loss\n",
    "    df['RSI'] = 100.0 - (100.0 / (1.0 + relative_strength))\n",
    "    \n",
    "    return df\n",
    "\n",
    "stocks_df = create_technical_indicators(stocks_df)"
   ]
  },
  {
   "cell_type": "code",
   "execution_count": null,
   "metadata": {},
   "outputs": [],
   "source": [
    "# Volatility Analysis\n",
    "stocks_df['Returns'] = stocks_df['Close'].pct_change()\n",
    "volatility = stocks_df['Returns'].std() * np.sqrt(252)  # Annualized\n",
    "print(f\"Annualized Volatility: {volatility:.2%}\")"
   ]
  },
  {
   "cell_type": "code",
   "execution_count": null,
   "metadata": {},
   "outputs": [],
   "source": [
    "# Save processed data\n",
    "stocks_df.to_csv('../data/processed/processed_stocks.csv')\n",
    "print(\"Data exploration and preprocessing completed.\")"
   ]
  }
 ],
 "metadata": {
  "kernelspec": {
   "display_name": "Python 3",
   "language": "python",
   "name": "python3"
  },
  "language_info": {
   "name": "python",
   "version": "3.8.5"
  }
 },
 "nbformat": 4,
 "nbformat_minor": 4
}