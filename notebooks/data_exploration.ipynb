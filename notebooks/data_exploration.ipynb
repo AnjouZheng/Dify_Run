{
 "cells": [
  {
   "cell_type": "markdown",
   "metadata": {},
   "source": [
    "# 垃圾邮件数据探索分析"
   ]
  },
  {
   "cell_type": "code",
   "execution_count": null,
   "metadata": {},
   "outputs": [],
   "source": [
    "import pandas as pd\n",
    "import numpy as np\n",
    "import matplotlib.pyplot as plt\n",
    "import seaborn as sns\n",
    "from sklearn.model_selection import train_test_split\n",
    "\n",
    "# 数据加载与基本探索\n",
    "df = pd.read_csv('../data/raw/emails.csv')\n",
    "print(f'数据集大小: {df.shape}')\n",
    "print(f'垃圾邮件比例: {df[\"label\"].mean():.2%}')"
   ]
  },
  {
   "cell_type": "code",
   "execution_count": null,
   "metadata": {},
   "outputs": [],
   "source": [
    "# 文本长度分析\n",
    "df['text_length'] = df['text'].str.len()\n",
    "\n",
    "plt.figure(figsize=(10, 6))\n",
    "sns.boxplot(x='label', y='text_length', data=df)\n",
    "plt.title('垃圾邮件与正常邮件文本长度分布')\n",
    "plt.show()"
   ]
  },
  {
   "cell_type": "code",
   "execution_count": null,
   "metadata": {},
   "outputs": [],
   "source": [
    "# 特征工程\n",
    "def extract_features(text):\n",
    "    return {\n",
    "        'has_url': int('http' in text.lower()),\n",
    "        'has_dollar': int('$' in text),\n",
    "        'uppercase_ratio': len([c for c in text if c.isupper()]) / len(text),\n",
    "        'punctuation_count': sum(1 for c in text if c in '!?.')\n",
    "    }\n",
    "\n",
    "features_df = df['text'].apply(extract_features).apply(pd.Series)\n",
    "df_with_features = pd.concat([df, features_df], axis=1)\n",
    "\n",
    "# 特征相关性分析\n",
    "plt.figure(figsize=(10, 8))\n",
    "sns.heatmap(df_with_features[['label', 'has_url', 'has_dollar', 'uppercase_ratio', 'punctuation_count']].corr(), annot=True)\n",
    "plt.title('特征与垃圾邮件的相关性')\n",
    "plt.show()"
   ]
  },
  {
   "cell_type": "code",
   "execution_count": null,
   "metadata": {},
   "outputs": [],
   "source": [
    "# 数据集划分\n",
    "X = df_with_features.drop(['label', 'text'], axis=1)\n",
    "y = df_with_features['label']\n",
    "\n",
    "X_train, X_test, y_train, y_test = train_test_split(\n",
    "    X, y, test_size=0.2, random_state=42, stratify=y\n",
    ")\n",
    "\n",
    "# 保存数据集\n",
    "X_train.to_csv('../data/splits/X_train.csv', index=False)\n",
    "X_test.to_csv('../data/splits/X_test.csv', index=False)\n",
    "y_train.to_csv('../data/splits/y_train.csv', index=False)\n",
    "y_test.to_csv('../data/splits/y_test.csv', index=False)\n",
    "\n",
    "print('数据集划分完成')"
   ]
  }
 ],
 "metadata": {
  "kernelspec": {
   "display_name": "Python 3",
   "language": "python",
   "name": "python3"
  },
  "language_info": {
   "codemirror_mode": {
    "name": "ipython",
    "version": 3
   },
   "file_extension": ".py",
   "mimetype": "text/x-python",
   "name": "python",
   "nbconvert_exporter": "python",
   "pygments_lexer": "ipython3",
   "version": "3.8.5"
  }
 },
 "nbformat": 4,
 "nbformat_minor": 4
}