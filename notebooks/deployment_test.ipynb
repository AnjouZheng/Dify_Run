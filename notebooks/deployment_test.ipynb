{
 "cells": [
  {
   "cell_type": "markdown",
   "metadata": {},
   "source": [
    "# Spam Classifier Deployment Test"
   ]
  },
  {
   "cell_type": "code",
   "execution_count": null,
   "metadata": {},
   "source": [
    "import sys\n",
    "sys.path.append('..')\n",
    "\n",
    "import torch\n",
    "import numpy as np\n",
    "from src.predict import SpamPredictor\n",
    "from src.preprocess import EmailPreprocessor\n",
    "\n",
    "# 检查GPU可用性\n",
    "device = torch.device('cuda' if torch.cuda.is_available() else 'cpu')\n",
    "print(f'使用设备: {device}')\n",
    "print(f'CUDA显存: {torch.cuda.get_device_properties(0).total_memory / 1024**3:.2f} GB')"
   ],
   "outputs": []
  },
  {
   "cell_type": "code",
   "execution_count": null,
   "metadata": {},
   "source": [
    "# 加载预训练模型\n",
    "model_path = '../models/trained_models/spam_classifier_v1.pt'\n",
    "predictor = SpamPredictor(model_path=model_path, device=device)\n",
    "\n",
    "# 测试样例邮件\n",
    "test_emails = [\n",
    "    \"Congratulations! You've won a free iPhone!\",\n",
    "    \"Meeting reminder for project review tomorrow\",\n",
    "    \"Get rich quick! Invest now in our amazing opportunity!\"\n",
    "]"
   ],
   "outputs": []
  },
  {
   "cell_type": "code",
   "execution_count": null,
   "metadata": {},
   "source": [
    "# 批量预测\n",
    "preprocessor = EmailPreprocessor()\n",
    "processed_emails = [preprocessor.preprocess(email) for email in test_emails]\n",
    "\n",
    "predictions = predictor.predict_batch(processed_emails)\n",
    "\n",
    "for email, pred in zip(test_emails, predictions):\n",
    "    print(f'邮件: {email}')\n",
    "    print(f'垃圾邮件概率: {pred:.2%}\\n')"
   ],
   "outputs": []
  },
  {
   "cell_type": "code",
   "execution_count": null,
   "metadata": {},
   "source": [
    "# 性能基准测试\n",
    "import time\n",
    "\n",
    "start_time = time.time()\n",
    "predictor.predict_batch(processed_emails * 100)\n",
    "end_time = time.time()\n",
    "\n",
    "print(f'1000封邮件推理耗时: {end_time - start_time:.4f}秒')\n",
    "print(f'平均每封邮件推理时间: {(end_time - start_time)/1000:.6f}秒')"
   ],
   "outputs": []
  }
 ],
 "metadata": {
  "kernelspec": {
   "display_name": "Python 3",
   "language": "python",
   "name": "python3"
  },
  "language_info": {
   "name": "python",
   "version": "3.8.5"
  }
 },
 "nbformat": 4,
 "nbformat_minor": 4
}