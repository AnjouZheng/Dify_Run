{
 "cells": [
  {
   "cell_type": "markdown",
   "metadata": {},
   "source": [
    "# 垃圾邮件分类实验笔记本"
   ]
  },
  {
   "cell_type": "code",
   "execution_count": null,
   "metadata": {},
   "outputs": [],
   "source": [
    "import pandas as pd\n",
    "import numpy as np\n",
    "import torch\n",
    "import torch.nn as nn\n",
    "from transformers import DistilBertTokenizer, DistilBertForSequenceClassification\n",
    "from sklearn.model_selection import train_test_split\n",
    "from sklearn.metrics import classification_report\n",
    "\n",
    "# 配置GPU\n",
    "device = torch.device('cuda' if torch.cuda.is_available() else 'cpu')"
   ]
  },
  {
   "cell_type": "code",
   "execution_count": null,
   "metadata": {},
   "source": [
    "# 数据加载与预处理\n",
    "def load_spam_dataset(path='../data/raw/emails.csv'):\n",
    "    df = pd.read_csv(path)\n",
    "    X = df['text'].values\n",
    "    y = df['label'].values\n",
    "    return X, y\n",
    "\n",
    "X, y = load_spam_dataset()\n",
    "X_train, X_test, y_train, y_test = train_test_split(X, y, test_size=0.2, random_state=42)"
   ]
  },
  {
   "cell_type": "code",
   "execution_count": null,
   "metadata": {},
   "source": [
    "# 模型实验\n",
    "class SpamClassificationExperiment:\n",
    "    def __init__(self, model_name='distilbert-base-uncased'):\n",
    "        self.tokenizer = DistilBertTokenizer.from_pretrained(model_name)\n",
    "        self.models = {\n",
    "            'DistilBERT': DistilBertForSequenceClassification.from_pretrained(model_name, num_labels=2),\n",
    "            'LSTM': self._create_lstm_model()\n",
    "        }\n",
    "    \n",
    "    def _create_lstm_model(self):\n",
    "        return nn.Sequential(\n",
    "            nn.Embedding(10000, 128),\n",
    "            nn.LSTM(128, 64, batch_first=True),\n",
    "            nn.Linear(64, 2),\n",
    "            nn.Softmax(dim=1)\n",
    "        )\n",
    "    \n",
    "    def tokenize_data(self, texts):\n",
    "        return self.tokenizer(list(texts), padding=True, truncation=True, return_tensors='pt')\n",
    "    \n",
    "    def train_model(self, model_name, X_train, y_train, epochs=3):\n",
    "        model = self.models[model_name].to(device)\n",
    "        optimizer = torch.optim.AdamW(model.parameters(), lr=2e-5)\n",
    "        criterion = nn.CrossEntropyLoss()\n",
    "        \n",
    "        for epoch in range(epochs):\n",
    "            inputs = self.tokenize_data(X_train).to(device)\n",
    "            labels = torch.tensor(y_train).to(device)\n",
    "            \n",
    "            optimizer.zero_grad()\n",
    "            outputs = model(**inputs, labels=labels)\n",
    "            loss = outputs.loss\n",
    "            loss.backward()\n",
    "            optimizer.step()\n",
    "        \n",
    "        return model\n",
    "    \n",
    "    def evaluate_model(self, model, X_test, y_test):\n",
    "        model.eval()\n",
    "        inputs = self.tokenize_data(X_test).to(device)\n",
    "        labels = torch.tensor(y_test).to(device)\n",
    "        \n",
    "        with torch.no_grad():\n",
    "            outputs = model(**inputs)\n",
    "            predictions = torch.argmax(outputs.logits, dim=1)\n",
    "        \n",
    "        return classification_report(labels.cpu(), predictions.cpu())"
   ]
  },
  {
   "cell_type": "code",
   "execution_count": null,
   "metadata": {},
   "source": [
    "# 模型对比实验\n",
    "experiment = SpamClassificationExperiment()\n",
    "\n",
    "results = {}\n",
    "for model_name in ['DistilBERT', 'LSTM']:\n",
    "    trained_model = experiment.train_model(model_name, X_train, y_train)\n",
    "    results[model_name] = experiment.evaluate_model(trained_model, X_test, y_test)\n",
    "\n",
    "# 打印结果\n",
    "for model_name, report in results.items():\n",
    "    print(f\"{model_name} 模型性能报告:\\n{report}\\n\")"
   ]
  }
 ],
 "metadata": {
  "kernelspec": {
   "display_name": "Python 3",
   "language": "python",
   "name": "python3"
  },
  "language_info": {
   "name": "python",
   "version": "3.8.5"
  }
 },
 "nbformat": 4,
 "nbformat_minor": 4
}