{
 "cells": [
  {
   "cell_type": "markdown",
   "metadata": {},
   "source": [
    "# 股票价格预测实验笔记本"
   ]
  },
  {
   "cell_type": "code",
   "execution_count": null,
   "metadata": {},
   "outputs": [],
   "source": [
    "import torch\n",
    "import torch.nn as nn\n",
    "import numpy as np\n",
    "import pandas as pd\n",
    "import matplotlib.pyplot as plt\n",
    "from sklearn.preprocessing import MinMaxScaler\n",
    "from src.data_loader import load_stock_data\n",
    "from src.feature_engineer import create_sequences\n",
    "from models.model import StockPriceLSTM\n",
    "\n",
    "# GPU配置\n",
    "device = torch.device('cuda' if torch.cuda.is_available() else 'cpu')\n",
    "print(f'使用设备: {device}')"
   ]
  },
  {
   "cell_type": "code",
   "execution_count": null,
   "metadata": {},
   "outputs": [],
   "source": [
    "# 数据加载与预处理\n",
    "data_path = 'data/raw/stock_prices.csv'\n",
    "df = load_stock_data(data_path)\n",
    "\n",
    "# 特征工程\n",
    "scaler = MinMaxScaler()\n",
    "scaled_data = scaler.fit_transform(df[['Close']])\n",
    "\n",
    "# 时序数据准备\n",
    "sequence_length = 60\n",
    "X, y = create_sequences(scaled_data, sequence_length)\n",
    "\n",
    "# 划分训练集和测试集\n",
    "train_size = int(len(X) * 0.8)\n",
    "X_train, X_test = X[:train_size], X[train_size:]\n",
    "y_train, y_test = y[:train_size], y[train_size:]\n",
    "\n",
    "# 转换为Tensor\n",
    "X_train = torch.FloatTensor(X_train).to(device)\n",
    "y_train = torch.FloatTensor(y_train).to(device)\n",
    "X_test = torch.FloatTensor(X_test).to(device)\n",
    "y_test = torch.FloatTensor(y_test).to(device)"
   ]
  },
  {
   "cell_type": "code",
   "execution_count": null,
   "metadata": {},
   "outputs": [],
   "source": [
    "# 模型初始化\n",
    "input_dim = 1\n",
    "hidden_dim = 50\n",
    "num_layers = 2\n",
    "output_dim = 1\n",
    "\n",
    "model = StockPriceLSTM(\n",
    "    input_dim=input_dim,\n",
    "    hidden_dim=hidden_dim,\n",
    "    num_layers=num_layers,\n",
    "    output_dim=output_dim\n",
    ").to(device)\n",
    "\n",
    "# 损失函数和优化器\n",
    "criterion = nn.MSELoss()\n",
    "optimizer = torch.optim.Adam(model.parameters(), lr=0.001)"
   ]
  },
  {
   "cell_type": "code",
   "execution_count": null,
   "metadata": {},
   "outputs": [],
   "source": [
    "# 模型训练\n",
    "epochs = 100\n",
    "batch_size = 32\n",
    "\n",
    "for epoch in range(epochs):\n",
    "    model.train()\n",
    "    for i in range(0, len(X_train), batch_size):\n",
    "        batch_X = X_train[i:i+batch_size]\n",
    "        batch_y = y_train[i:i+batch_size]\n",
    "        \n",
    "        optimizer.zero_grad()\n",
    "        outputs = model(batch_X)\n",
    "        loss = criterion(outputs, batch_y)\n",
    "        loss.backward()\n",
    "        optimizer.step()\n",
    "    \n",
    "    if epoch % 10 == 0:\n",
    "        print(f'Epoch [{epoch+1}/{epochs}], Loss: {loss.item():.4f}')"
   ]
  },
  {
   "cell_type": "code",
   "execution_count": null,
   "metadata": {},
   "outputs": [],
   "source": [
    "# 模型评估\n",
    "model.eval()\n",
    "with torch.no_grad():\n",
    "    test_predictions = model(X_test)\n",
    "    test_loss = criterion(test_predictions, y_test)\n",
    "    print(f'Test Loss: {test_loss.item():.4f}')\n",
    "\n",
    "# 反归一化\n",
    "test_predictions = scaler.inverse_transform(test_predictions.cpu())\n",
    "y_test_original = scaler.inverse_transform(y_test.cpu())\n",
    "\n",
    "# 可视化结果\n",
    "plt.figure(figsize=(12,6))\n",
    "plt.plot(y_test_original, label='实际价格')\n",
    "plt.plot(test_predictions, label='预测价格')\n",
    "plt.title('股票价格预测')\n",
    "plt.legend()\n",
    "plt.show()"
   ]
  }
 ],
 "metadata": {
  "kernelspec": {
   "display_name": "Python 3",
   "language": "python",
   "name": "python3"
  }
 },
 "nbformat": 4,
 "nbformat_minor": 2
}